{
 "cells": [
  {
   "cell_type": "code",
   "execution_count": 1,
   "id": "28881692",
   "metadata": {},
   "outputs": [],
   "source": [
    "import tensorflow as tf\n",
    "from keras.preprocessing.image import ImageDataGenerator\n"
   ]
  },
  {
   "cell_type": "code",
   "execution_count": 2,
   "id": "7d8d3b10",
   "metadata": {},
   "outputs": [
    {
     "name": "stdout",
     "output_type": "stream",
     "text": [
      "Found 3324 images belonging to 2 classes.\n"
     ]
    }
   ],
   "source": [
    "train_datagen = ImageDataGenerator( \n",
    "        rescale=1./255,\n",
    "        shear_range=0.2,\n",
    "        zoom_range=0.2,\n",
    "        horizontal_flip=True)\n",
    "training_set = train_datagen.flow_from_directory(\n",
    "        'dataset/training_set',\n",
    "        target_size=(64, 64),\n",
    "        batch_size=32,\n",
    "        class_mode='binary')"
   ]
  },
  {
   "cell_type": "code",
   "execution_count": 3,
   "id": "f512c30f",
   "metadata": {},
   "outputs": [
    {
     "name": "stdout",
     "output_type": "stream",
     "text": [
      "Found 936 images belonging to 2 classes.\n"
     ]
    }
   ],
   "source": [
    "test_datagen = ImageDataGenerator(rescale=1./255)\n",
    "test_set = test_datagen.flow_from_directory(\n",
    "        'dataset/test_set',\n",
    "        target_size=(64, 64),\n",
    "        batch_size=32,#it means 32 images in a batch\n",
    "        class_mode='binary')"
   ]
  },
  {
   "cell_type": "code",
   "execution_count": 4,
   "id": "db2e210a",
   "metadata": {},
   "outputs": [],
   "source": [
    "cnn=tf.keras.models.Sequential()"
   ]
  },
  {
   "cell_type": "code",
   "execution_count": 5,
   "id": "3e028d7c",
   "metadata": {},
   "outputs": [],
   "source": [
    "cnn.add(tf.keras.layers.Conv2D(filters=32,kernel_size=3,activation='relu',input_shape=[64,64,3]))"
   ]
  },
  {
   "cell_type": "code",
   "execution_count": 6,
   "id": "ecc3d005",
   "metadata": {},
   "outputs": [],
   "source": [
    "cnn.add(tf.keras.layers.MaxPool2D(pool_size=(2,2),strides=2))\n"
   ]
  },
  {
   "cell_type": "code",
   "execution_count": 7,
   "id": "514a183a",
   "metadata": {},
   "outputs": [],
   "source": [
    "cnn.add(tf.keras.layers.Conv2D(filters=32,kernel_size=3,activation='relu'))\n",
    "cnn.add(tf.keras.layers.MaxPool2D(pool_size=(2,2),strides=2))\n"
   ]
  },
  {
   "cell_type": "code",
   "execution_count": 8,
   "id": "370914af",
   "metadata": {},
   "outputs": [],
   "source": [
    "cnn.add(tf.keras.layers.Flatten())\n"
   ]
  },
  {
   "cell_type": "code",
   "execution_count": 9,
   "id": "f96d2f9a",
   "metadata": {},
   "outputs": [],
   "source": [
    "cnn.add(tf.keras.layers.Dense(units=128,activation='relu'))\n"
   ]
  },
  {
   "cell_type": "code",
   "execution_count": 10,
   "id": "7aef2e7c",
   "metadata": {},
   "outputs": [],
   "source": [
    "cnn.add(tf.keras.layers.Dense(units=1,activation='sigmoid'))\n"
   ]
  },
  {
   "cell_type": "code",
   "execution_count": 11,
   "id": "b770e3b9",
   "metadata": {},
   "outputs": [],
   "source": [
    "cnn.compile(optimizer='adam',loss='binary_crossentropy',metrics=['accuracy'])\n"
   ]
  },
  {
   "cell_type": "code",
   "execution_count": 12,
   "id": "4e1a3b98",
   "metadata": {},
   "outputs": [
    {
     "name": "stdout",
     "output_type": "stream",
     "text": [
      "Epoch 1/30\n",
      "104/104 [==============================] - 53s 486ms/step - loss: 0.6791 - accuracy: 0.6227 - val_loss: 0.7750 - val_accuracy: 0.5000\n",
      "Epoch 2/30\n",
      "104/104 [==============================] - 21s 206ms/step - loss: 0.6539 - accuracy: 0.6423 - val_loss: 0.7477 - val_accuracy: 0.5000\n",
      "Epoch 3/30\n",
      "104/104 [==============================] - 18s 173ms/step - loss: 0.6448 - accuracy: 0.6450 - val_loss: 0.7558 - val_accuracy: 0.5000\n",
      "Epoch 4/30\n",
      "104/104 [==============================] - 18s 173ms/step - loss: 0.6348 - accuracy: 0.6510 - val_loss: 0.7487 - val_accuracy: 0.4904\n",
      "Epoch 5/30\n",
      "104/104 [==============================] - 22s 209ms/step - loss: 0.6225 - accuracy: 0.6441 - val_loss: 0.7379 - val_accuracy: 0.4882\n",
      "Epoch 6/30\n",
      "104/104 [==============================] - 21s 206ms/step - loss: 0.6133 - accuracy: 0.6588 - val_loss: 0.7357 - val_accuracy: 0.4840\n",
      "Epoch 7/30\n",
      "104/104 [==============================] - 22s 211ms/step - loss: 0.6053 - accuracy: 0.6613 - val_loss: 0.7882 - val_accuracy: 0.4722\n",
      "Epoch 8/30\n",
      "104/104 [==============================] - 24s 233ms/step - loss: 0.6023 - accuracy: 0.6742 - val_loss: 0.7521 - val_accuracy: 0.4882\n",
      "Epoch 9/30\n",
      "104/104 [==============================] - 23s 223ms/step - loss: 0.5919 - accuracy: 0.6886 - val_loss: 0.7432 - val_accuracy: 0.5331\n",
      "Epoch 10/30\n",
      "104/104 [==============================] - 20s 190ms/step - loss: 0.5859 - accuracy: 0.6955 - val_loss: 0.7510 - val_accuracy: 0.5160\n",
      "Epoch 11/30\n",
      "104/104 [==============================] - 19s 180ms/step - loss: 0.5762 - accuracy: 0.7031 - val_loss: 0.8276 - val_accuracy: 0.5139\n",
      "Epoch 12/30\n",
      "104/104 [==============================] - 17s 166ms/step - loss: 0.5721 - accuracy: 0.6992 - val_loss: 0.8121 - val_accuracy: 0.5043\n",
      "Epoch 13/30\n",
      "104/104 [==============================] - 18s 168ms/step - loss: 0.5672 - accuracy: 0.7028 - val_loss: 0.7550 - val_accuracy: 0.4979\n",
      "Epoch 14/30\n",
      "104/104 [==============================] - 20s 191ms/step - loss: 0.5611 - accuracy: 0.7094 - val_loss: 0.8146 - val_accuracy: 0.5032\n",
      "Epoch 15/30\n",
      "104/104 [==============================] - 21s 202ms/step - loss: 0.5493 - accuracy: 0.7151 - val_loss: 0.8609 - val_accuracy: 0.4850\n",
      "Epoch 16/30\n",
      "104/104 [==============================] - 19s 177ms/step - loss: 0.5505 - accuracy: 0.7193 - val_loss: 0.8005 - val_accuracy: 0.4818\n",
      "Epoch 17/30\n",
      "104/104 [==============================] - 23s 219ms/step - loss: 0.5530 - accuracy: 0.7172 - val_loss: 0.8824 - val_accuracy: 0.4658\n",
      "Epoch 18/30\n",
      "104/104 [==============================] - 17s 168ms/step - loss: 0.5319 - accuracy: 0.7347 - val_loss: 0.9048 - val_accuracy: 0.4786\n",
      "Epoch 19/30\n",
      "104/104 [==============================] - 17s 167ms/step - loss: 0.5286 - accuracy: 0.7313 - val_loss: 0.9219 - val_accuracy: 0.4861\n",
      "Epoch 20/30\n",
      "104/104 [==============================] - 18s 171ms/step - loss: 0.5178 - accuracy: 0.7353 - val_loss: 0.8784 - val_accuracy: 0.4829\n",
      "Epoch 21/30\n",
      "104/104 [==============================] - 18s 177ms/step - loss: 0.5131 - accuracy: 0.7307 - val_loss: 0.9778 - val_accuracy: 0.5214\n",
      "Epoch 22/30\n",
      "104/104 [==============================] - 18s 171ms/step - loss: 0.5043 - accuracy: 0.7428 - val_loss: 1.0102 - val_accuracy: 0.5043\n",
      "Epoch 23/30\n",
      "104/104 [==============================] - 17s 166ms/step - loss: 0.4912 - accuracy: 0.7494 - val_loss: 1.0575 - val_accuracy: 0.4797\n",
      "Epoch 24/30\n",
      "104/104 [==============================] - 18s 169ms/step - loss: 0.4915 - accuracy: 0.7527 - val_loss: 1.0484 - val_accuracy: 0.4487\n",
      "Epoch 25/30\n",
      "104/104 [==============================] - 19s 179ms/step - loss: 0.4834 - accuracy: 0.7563 - val_loss: 1.0343 - val_accuracy: 0.4829\n",
      "Epoch 26/30\n",
      "104/104 [==============================] - 17s 165ms/step - loss: 0.4745 - accuracy: 0.7614 - val_loss: 1.1590 - val_accuracy: 0.4818\n",
      "Epoch 27/30\n",
      "104/104 [==============================] - 17s 168ms/step - loss: 0.4693 - accuracy: 0.7602 - val_loss: 1.0862 - val_accuracy: 0.5096\n",
      "Epoch 28/30\n",
      "104/104 [==============================] - 17s 168ms/step - loss: 0.4613 - accuracy: 0.7759 - val_loss: 1.0859 - val_accuracy: 0.4904\n",
      "Epoch 29/30\n",
      "104/104 [==============================] - 18s 172ms/step - loss: 0.4501 - accuracy: 0.7789 - val_loss: 1.1447 - val_accuracy: 0.4947\n",
      "Epoch 30/30\n",
      "104/104 [==============================] - 22s 209ms/step - loss: 0.4364 - accuracy: 0.7852 - val_loss: 1.1737 - val_accuracy: 0.4487\n"
     ]
    },
    {
     "data": {
      "text/plain": [
       "<keras.callbacks.History at 0x24066fa7940>"
      ]
     },
     "execution_count": 12,
     "metadata": {},
     "output_type": "execute_result"
    }
   ],
   "source": [
    "cnn.fit(x=training_set,validation_data=test_set,epochs=30)\n"
   ]
  },
  {
   "cell_type": "code",
   "execution_count": 13,
   "id": "aba316d9",
   "metadata": {},
   "outputs": [
    {
     "data": {
      "text/plain": [
       "{'Anemic': 0, 'NonAnemic': 1}"
      ]
     },
     "execution_count": 13,
     "metadata": {},
     "output_type": "execute_result"
    }
   ],
   "source": [
    "training_set.class_indices"
   ]
  },
  {
   "cell_type": "code",
   "execution_count": 32,
   "id": "d1f7e109",
   "metadata": {},
   "outputs": [
    {
     "name": "stdout",
     "output_type": "stream",
     "text": [
      "1/1 [==============================] - 0s 27ms/step\n"
     ]
    }
   ],
   "source": [
    "import numpy as np\n",
    "import keras.utils as image\n",
    "test_image=image.load_img('dataset/predict/2.png',target_size=(64,64))\n",
    "test_image = image.img_to_array(test_image)\n",
    "test_image = np.expand_dims(test_image, axis = 0)\n",
    "result = cnn.predict(test_image)"
   ]
  },
  {
   "cell_type": "code",
   "execution_count": 33,
   "id": "dba71e2a",
   "metadata": {},
   "outputs": [],
   "source": [
    "if result[0][0] == 1:\n",
    "  prediction = 'Non Anemic'\n",
    "else:\n",
    "  prediction = 'Anemic'"
   ]
  },
  {
   "cell_type": "code",
   "execution_count": 34,
   "id": "7f296ce1",
   "metadata": {},
   "outputs": [
    {
     "name": "stdout",
     "output_type": "stream",
     "text": [
      "Anemic\n"
     ]
    }
   ],
   "source": [
    "print(prediction)"
   ]
  }
 ],
 "metadata": {
  "kernelspec": {
   "display_name": "Python 3 (ipykernel)",
   "language": "python",
   "name": "python3"
  },
  "language_info": {
   "codemirror_mode": {
    "name": "ipython",
    "version": 3
   },
   "file_extension": ".py",
   "mimetype": "text/x-python",
   "name": "python",
   "nbconvert_exporter": "python",
   "pygments_lexer": "ipython3",
   "version": "3.9.13"
  }
 },
 "nbformat": 4,
 "nbformat_minor": 5
}
